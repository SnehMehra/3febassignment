{
 "cells": [
  {
   "cell_type": "code",
   "execution_count": 1,
   "id": "68c8d496-e270-403d-b569-5ce2cca64996",
   "metadata": {},
   "outputs": [
    {
     "name": "stdout",
     "output_type": "stream",
     "text": [
      "[1, 3, 5, 7, 9, 11, 13, 15, 17, 19, 21, 23, 25]\n"
     ]
    }
   ],
   "source": [
    "##Q.1\n",
    "## def    keyword is used to create a function\n",
    "\n",
    "#function\n",
    "def odd(list):\n",
    "    new_list=[]\n",
    "    for i in list:\n",
    "        if i%2!=0:\n",
    "            new_list.append(i)\n",
    "    return new_list       \n",
    "list=range(0,26)   \n",
    "result=odd(list)\n",
    "print(result)\n"
   ]
  },
  {
   "cell_type": "code",
   "execution_count": 1,
   "id": "8516b4ce-fc87-4ff6-8a96-ce4a93718254",
   "metadata": {},
   "outputs": [],
   "source": [
    "#Q.2\n",
    "##You can use *args and **kwargs as arguments of a function when you are unsure about the number of arguments to pass in the functions.\n",
    "\n"
   ]
  },
  {
   "cell_type": "code",
   "execution_count": 7,
   "id": "342d6411-f99c-4192-b6d3-db0f75058405",
   "metadata": {},
   "outputs": [
    {
     "name": "stdout",
     "output_type": "stream",
     "text": [
      "28\n"
     ]
    }
   ],
   "source": [
    "#args*\n",
    "def add(*num):\n",
    "    sum=0\n",
    "    for i in num:\n",
    "        sum+=i\n",
    "    print(sum)\n",
    "add(1,23,4)        "
   ]
  },
  {
   "cell_type": "code",
   "execution_count": 9,
   "id": "6ca6e5be-0f5b-43ec-b5fd-f0026a9a88fb",
   "metadata": {},
   "outputs": [
    {
     "name": "stdout",
     "output_type": "stream",
     "text": [
      "name = sneh\n",
      "last_name = mehra\n",
      "course = python\n"
     ]
    }
   ],
   "source": [
    "##**kwargs\n",
    "def myFun(**kwargs):\n",
    "\tfor key, value in kwargs.items():\n",
    "\t\tprint(\"%s = %s\" % (key, value))\n",
    "\n",
    "\n",
    "\n",
    "myFun(name='sneh', last_name='mehra', course='python')\n"
   ]
  },
  {
   "cell_type": "code",
   "execution_count": 15,
   "id": "322f2289-2d04-4db1-adf2-3743ffd9513f",
   "metadata": {},
   "outputs": [
    {
     "data": {
      "text/plain": [
       "2"
      ]
     },
     "execution_count": 15,
     "metadata": {},
     "output_type": "execute_result"
    }
   ],
   "source": [
    "#Q.3\n",
    "#An iterator is an object that contains a countable number of values\n",
    "#Iter() method is used to initialize the iterator object\n",
    "#next() method is used for iteration\n",
    "l=[2, 4, 6, 8, 10, 12, 14,16, 18, 20]\n",
    "l1=iter(l)\n",
    "next(l1)"
   ]
  },
  {
   "cell_type": "code",
   "execution_count": 16,
   "id": "27a31166-fea5-4c72-8177-56501f069405",
   "metadata": {},
   "outputs": [
    {
     "data": {
      "text/plain": [
       "4"
      ]
     },
     "execution_count": 16,
     "metadata": {},
     "output_type": "execute_result"
    }
   ],
   "source": [
    "next(l1)"
   ]
  },
  {
   "cell_type": "code",
   "execution_count": 17,
   "id": "faf379d9-42a7-4100-8f6e-2e4c1250b92c",
   "metadata": {},
   "outputs": [
    {
     "data": {
      "text/plain": [
       "6"
      ]
     },
     "execution_count": 17,
     "metadata": {},
     "output_type": "execute_result"
    }
   ],
   "source": [
    "next(l1)"
   ]
  },
  {
   "cell_type": "code",
   "execution_count": 18,
   "id": "1d55288f-d0ce-474d-ad66-ec506a800171",
   "metadata": {},
   "outputs": [
    {
     "data": {
      "text/plain": [
       "8"
      ]
     },
     "execution_count": 18,
     "metadata": {},
     "output_type": "execute_result"
    }
   ],
   "source": [
    "next(l1)"
   ]
  },
  {
   "cell_type": "code",
   "execution_count": 19,
   "id": "c439aca1-6c8e-485a-982e-80d8851d7488",
   "metadata": {},
   "outputs": [
    {
     "data": {
      "text/plain": [
       "10"
      ]
     },
     "execution_count": 19,
     "metadata": {},
     "output_type": "execute_result"
    }
   ],
   "source": [
    "next(l1)"
   ]
  },
  {
   "cell_type": "code",
   "execution_count": null,
   "id": "0a581d4b-05ba-4f01-b26b-e0bb7f464a30",
   "metadata": {},
   "outputs": [],
   "source": [
    "#Q.4\n",
    "\n",
    "# In Python, a generator is a function that returns an iterator that produces a sequence of values when iterated over\n",
    "# The yield keyword in Python controls the flow of a generator function. This is similar to a return statement used for returning values in Python."
   ]
  },
  {
   "cell_type": "code",
   "execution_count": null,
   "id": "b3142d6a-808b-495a-ba49-873a83377445",
   "metadata": {},
   "outputs": [],
   "source": [
    "def test_fib(n):\n",
    "    a,b = 0,1\n",
    "    for i in range(n):\n",
    "        yield a \n",
    "        a,b = b , a+b"
   ]
  },
  {
   "cell_type": "code",
   "execution_count": 11,
   "id": "aeb548e3-d4c0-4cce-a99b-ac6019817d8a",
   "metadata": {},
   "outputs": [
    {
     "name": "stdout",
     "output_type": "stream",
     "text": [
      "0\n",
      "1\n",
      "1\n",
      "2\n",
      "3\n",
      "5\n",
      "8\n",
      "13\n",
      "21\n",
      "34\n"
     ]
    }
   ],
   "source": [
    "for i in test_fib(10):\n",
    "    print(i)\n",
    "    "
   ]
  },
  {
   "cell_type": "code",
   "execution_count": 20,
   "id": "34c20f7b-8315-47a5-a2da-fe41b7479585",
   "metadata": {},
   "outputs": [
    {
     "name": "stdout",
     "output_type": "stream",
     "text": [
      "2\n",
      "3\n",
      "5\n",
      "7\n",
      "11\n",
      "13\n",
      "17\n",
      "19\n",
      "23\n",
      "29\n",
      "31\n",
      "37\n",
      "41\n",
      "43\n",
      "47\n",
      "53\n",
      "59\n",
      "61\n",
      "67\n",
      "71\n"
     ]
    }
   ],
   "source": [
    "#Q.5\n",
    "from math import sqrt\n",
    "\n",
    "def is_prime(n):\n",
    "    if (n <= 1):\n",
    "        return False\n",
    "    if (n == 2):\n",
    "        return True\n",
    "    if (n % 2 == 0):\n",
    "        return False\n",
    "\n",
    "    i = 3\n",
    "    while i <= sqrt(n):\n",
    "        if n % i == 0:\n",
    "            return False\n",
    "        i = i + 2\n",
    "\n",
    "    return True\n",
    "def prime_generator():\n",
    "    n = 1\n",
    "    while True:\n",
    "        n += 1\n",
    "        if is_prime(n):\n",
    "            yield n\n",
    "generator = prime_generator()\n",
    "\n",
    "for i in range(20):\n",
    "    print(next(generator))            \n",
    "            "
   ]
  },
  {
   "cell_type": "code",
   "execution_count": 2,
   "id": "c2852b05-80da-48b5-bc1d-93cac2d46deb",
   "metadata": {},
   "outputs": [
    {
     "name": "stdin",
     "output_type": "stream",
     "text": [
      "enter the number of element you are looking for  10\n"
     ]
    },
    {
     "name": "stdout",
     "output_type": "stream",
     "text": [
      "0\n",
      "1\n",
      "1\n",
      "2\n",
      "3\n",
      "5\n",
      "8\n",
      "13\n",
      "21\n",
      "34\n"
     ]
    }
   ],
   "source": [
    "##Q.6\n",
    "n = int(input(\"enter the number of element you are looking for \"))\n",
    "a , b  = 0 , 1 \n",
    "counter = 0 \n",
    "while counter <n : \n",
    "    print(a)\n",
    "    c = a+ b\n",
    "    a = b \n",
    "    b = c \n",
    "    counter= counter+ 1"
   ]
  },
  {
   "cell_type": "raw",
   "id": "48ceb1aa-04f6-473e-83b8-a75e71abd4da",
   "metadata": {},
   "source": []
  },
  {
   "cell_type": "code",
   "execution_count": 3,
   "id": "60165a8d-0f6e-4bb1-8dc9-dc32eb2dae51",
   "metadata": {},
   "outputs": [
    {
     "name": "stdout",
     "output_type": "stream",
     "text": [
      "['p', 'w', 's', 'k', 'i', 'l', 'l', 's']\n"
     ]
    }
   ],
   "source": [
    "#Q.7\n",
    "list=[character for character in 'pwskills']\n",
    "print(list)"
   ]
  },
  {
   "cell_type": "code",
   "execution_count": null,
   "id": "657ad1f4-e25d-4420-946e-1012aadc8305",
   "metadata": {},
   "outputs": [
    {
     "name": "stdin",
     "output_type": "stream",
     "text": [
      "enter a value 121\n"
     ]
    }
   ],
   "source": [
    "#Q.8\n",
    "\n",
    "n=int(input(\"enter a value\"))\n",
    "temp=n\n",
    "rev=0\n",
    "while(n>0):\n",
    "    dig=n%10\n",
    "    r=rev*10+dig\n",
    "    n/=n\n",
    "if(temp==rev):\n",
    "    print(\"palindrome number\")\n",
    "else:    \n",
    "    print(\"non-palindromic number\")\n",
    "        \n",
    "    \n"
   ]
  },
  {
   "cell_type": "code",
   "execution_count": null,
   "id": "871fb73c-6aeb-4096-9226-0b6766d0e41b",
   "metadata": {},
   "outputs": [],
   "source": [
    "##Q.9\n",
    "list=[element for element in range(1,101)]\n",
    "odd_list=[i for i in list if i%2==1]\n",
    "print(odd_list)\n",
    "      \n"
   ]
  },
  {
   "cell_type": "code",
   "execution_count": null,
   "id": "8502b502-d425-49c7-8590-f0a97dc11354",
   "metadata": {},
   "outputs": [],
   "source": []
  }
 ],
 "metadata": {
  "kernelspec": {
   "display_name": "Python 3 (ipykernel)",
   "language": "python",
   "name": "python3"
  },
  "language_info": {
   "codemirror_mode": {
    "name": "ipython",
    "version": 3
   },
   "file_extension": ".py",
   "mimetype": "text/x-python",
   "name": "python",
   "nbconvert_exporter": "python",
   "pygments_lexer": "ipython3",
   "version": "3.10.8"
  }
 },
 "nbformat": 4,
 "nbformat_minor": 5
}
